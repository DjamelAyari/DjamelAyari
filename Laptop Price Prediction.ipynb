{
 "cells": [
  {
   "cell_type": "code",
   "execution_count": 1,
   "metadata": {},
   "outputs": [],
   "source": [
    "import pandas as pd\n",
    "import numpy as np\n",
    "import matplotlib.pyplot as plt\n",
    "from matplotlib import pyplot\n",
    "import seaborn as sns"
   ]
  },
  {
   "cell_type": "code",
   "execution_count": 16,
   "metadata": {},
   "outputs": [],
   "source": [
    "df = pd.read_csv(\"laptop_price.csv\", encoding=\"latin1\")"
   ]
  },
  {
   "cell_type": "markdown",
   "metadata": {},
   "source": [
    "__EXPLORATORY DATA  ANALYSIS__"
   ]
  },
  {
   "cell_type": "code",
   "execution_count": 13,
   "metadata": {},
   "outputs": [
    {
     "data": {
      "text/plain": [
       "laptop_ID             int64\n",
       "Company              object\n",
       "Product              object\n",
       "TypeName             object\n",
       "Inches              float64\n",
       "ScreenResolution     object\n",
       "Cpu                  object\n",
       "Ram                  object\n",
       "Memory               object\n",
       "Gpu                  object\n",
       "OpSys                object\n",
       "Weight               object\n",
       "Price_euros         float64\n",
       "dtype: object"
      ]
     },
     "execution_count": 13,
     "metadata": {},
     "output_type": "execute_result"
    }
   ],
   "source": [
    "df.dtypes"
   ]
  },
  {
   "cell_type": "code",
   "execution_count": 6,
   "metadata": {},
   "outputs": [
    {
     "data": {
      "text/plain": [
       "object     10\n",
       "float64     2\n",
       "int64       1\n",
       "dtype: int64"
      ]
     },
     "execution_count": 6,
     "metadata": {},
     "output_type": "execute_result"
    }
   ],
   "source": [
    "types.value_counts()"
   ]
  },
  {
   "cell_type": "code",
   "execution_count": 7,
   "metadata": {},
   "outputs": [
    {
     "data": {
      "text/plain": [
       "laptop_ID           0\n",
       "Company             0\n",
       "Product             0\n",
       "TypeName            0\n",
       "Inches              0\n",
       "ScreenResolution    0\n",
       "Cpu                 0\n",
       "Ram                 0\n",
       "Memory              0\n",
       "Gpu                 0\n",
       "OpSys               0\n",
       "Weight              0\n",
       "Price_euros         0\n",
       "dtype: int64"
      ]
     },
     "execution_count": 7,
     "metadata": {},
     "output_type": "execute_result"
    }
   ],
   "source": [
    "df.isnull().sum()"
   ]
  },
  {
   "cell_type": "code",
   "execution_count": 8,
   "metadata": {},
   "outputs": [
    {
     "data": {
      "text/plain": [
       "False    1303\n",
       "dtype: int64"
      ]
     },
     "execution_count": 8,
     "metadata": {},
     "output_type": "execute_result"
    }
   ],
   "source": [
    "duplicated.value_counts()"
   ]
  },
  {
   "cell_type": "code",
   "execution_count": 9,
   "metadata": {},
   "outputs": [
    {
     "data": {
      "text/plain": [
       "laptop_ID           1303\n",
       "Company               19\n",
       "Product              618\n",
       "TypeName               6\n",
       "Inches                18\n",
       "ScreenResolution      40\n",
       "Cpu                  118\n",
       "Ram                    9\n",
       "Memory                39\n",
       "Gpu                  110\n",
       "OpSys                  9\n",
       "Weight               179\n",
       "Price_euros          791\n",
       "dtype: int64"
      ]
     },
     "execution_count": 9,
     "metadata": {},
     "output_type": "execute_result"
    }
   ],
   "source": [
    "df.nunique()"
   ]
  },
  {
   "cell_type": "markdown",
   "metadata": {},
   "source": [
    "FEATURES TYPES CHANGES\n",
    "\n",
    "I can change some features types --> Ram and Weight"
   ]
  },
  {
   "cell_type": "code",
   "execution_count": 17,
   "metadata": {},
   "outputs": [],
   "source": [
    "df['Ram'] = df['Ram'].str.replace('GB', '')\n",
    "df[\"Ram\"] = df[\"Ram\"].astype(int)\n",
    "df['Weight'] = df['Weight'].str.replace('kg', '')\n",
    "df[\"Weight\"] = df[\"Weight\"].astype(float)"
   ]
  },
  {
   "cell_type": "code",
   "execution_count": 18,
   "metadata": {},
   "outputs": [
    {
     "data": {
      "text/plain": [
       "laptop_ID             int64\n",
       "Company              object\n",
       "Product              object\n",
       "TypeName             object\n",
       "Inches              float64\n",
       "ScreenResolution     object\n",
       "Cpu                  object\n",
       "Ram                   int32\n",
       "Memory               object\n",
       "Gpu                  object\n",
       "OpSys                object\n",
       "Weight              float64\n",
       "Price_euros         float64\n",
       "dtype: object"
      ]
     },
     "execution_count": 18,
     "metadata": {},
     "output_type": "execute_result"
    }
   ],
   "source": [
    "df.dtypes"
   ]
  },
  {
   "cell_type": "markdown",
   "metadata": {},
   "source": [
    "NUMERICAL AND CATEGORICAL DATA SET CREATION"
   ]
  },
  {
   "cell_type": "code",
   "execution_count": 19,
   "metadata": {},
   "outputs": [
    {
     "name": "stderr",
     "output_type": "stream",
     "text": [
      "C:\\ProgramData\\Anaconda\\lib\\site-packages\\pandas\\core\\frame.py:4163: SettingWithCopyWarning: \n",
      "A value is trying to be set on a copy of a slice from a DataFrame\n",
      "\n",
      "See the caveats in the documentation: https://pandas.pydata.org/pandas-docs/stable/user_guide/indexing.html#returning-a-view-versus-a-copy\n",
      "  return super().drop(\n"
     ]
    }
   ],
   "source": [
    "numerical = df.select_dtypes(include=[np.number])\n",
    "numerical.drop(columns = [\"laptop_ID\", \"Price_euros\"], inplace = True)\n",
    "categorical = df.select_dtypes(include=['object'])"
   ]
  },
  {
   "cell_type": "markdown",
   "metadata": {},
   "source": [
    "OUTLIERS DETECTION\n",
    "\n",
    "For all the outliers not aberrant values found"
   ]
  },
  {
   "cell_type": "code",
   "execution_count": 20,
   "metadata": {},
   "outputs": [
    {
     "name": "stdout",
     "output_type": "stream",
     "text": [
      "Inches\n",
      "q1 is 14.0\n",
      "q3 is 15.6\n",
      "iqr is 1.5999999999999996\n",
      "ram lower is 11.600000000000001\n",
      "ram upper is 11.600000000000001\n",
      "Ram\n",
      "q1 is 4.0\n",
      "q3 is 8.0\n",
      "iqr is 4.0\n",
      "ram lower is -2.0\n",
      "ram upper is -2.0\n",
      "Weight\n",
      "q1 is 1.5\n",
      "q3 is 2.3\n",
      "iqr is 0.7999999999999998\n",
      "ram lower is 0.30000000000000027\n",
      "ram upper is 0.30000000000000027\n"
     ]
    }
   ],
   "source": [
    "for features in numerical:\n",
    "    r = numerical[features]\n",
    "    print(features)\n",
    "    q1 = r.quantile(0.25)\n",
    "    print(\"q1 is\", q1)\n",
    "    q3 = r.quantile(0.75)\n",
    "    print(\"q3 is\", q3)\n",
    "    iqr = q3 - q1\n",
    "    print(\"iqr is\", iqr)\n",
    "    feature_lower = q1 - 1.5 * iqr\n",
    "    print(\"ram lower is\", feature_lower)\n",
    "    feature_upper = q3 + 1.5 * iqr\n",
    "    print(\"ram upper is\", feature_lower)\n",
    "    outliers_feature = dict(r[(r < feature_lower) | (r > feature_upper)])"
   ]
  },
  {
   "cell_type": "markdown",
   "metadata": {},
   "source": [
    "FEATURES DISTRIBUTION"
   ]
  },
  {
   "cell_type": "code",
   "execution_count": 24,
   "metadata": {},
   "outputs": [],
   "source": [
    "from scipy.stats import skew\n",
    "from scipy.stats import kurtosis"
   ]
  },
  {
   "cell_type": "code",
   "execution_count": 27,
   "metadata": {},
   "outputs": [
    {
     "data": {
      "text/plain": [
       "array([-0.44639852,  2.68371225,  1.14364441])"
      ]
     },
     "execution_count": 27,
     "metadata": {},
     "output_type": "execute_result"
    }
   ],
   "source": [
    "skew(numerical)\n",
    "#Inches , Ram,  Weight"
   ]
  },
  {
   "cell_type": "code",
   "execution_count": 28,
   "metadata": {},
   "outputs": [
    {
     "data": {
      "text/plain": [
       "array([-0.07415664, 15.27312276,  2.44186486])"
      ]
     },
     "execution_count": 28,
     "metadata": {},
     "output_type": "execute_result"
    }
   ],
   "source": [
    "kurtosis(numerical)\n",
    "#Inches , Ram,  Weight"
   ]
  },
  {
   "cell_type": "markdown",
   "metadata": {},
   "source": [
    "FEATURES RELATIONSHIP WITH TARGET\n",
    "\n",
    "No normaly distributed values"
   ]
  },
  {
   "cell_type": "code",
   "execution_count": 94,
   "metadata": {},
   "outputs": [
    {
     "name": "stdout",
     "output_type": "stream",
     "text": [
      "Inches\n",
      "rho=-0.047, p=0.092\n",
      "Negative relationship\n",
      "Probably independent\n",
      "Ram\n",
      "rho=0.769, p=0.000\n",
      "Positive relationship\n",
      "Probably dependent\n",
      "Weight\n",
      "rho=-0.024, p=0.390\n",
      "Negative relationship\n",
      "Probably independent\n"
     ]
    }
   ],
   "source": [
    "for features in numerical:\n",
    "    from scipy.stats import spearmanr\n",
    "    rho, p = spearmanr(numerical[features], df['Price_euros'])\n",
    "    print(features)\n",
    "    print('rho=%.3f, p=%.3f' % (rho, p))\n",
    "    if rho > 0:\n",
    "        print(\"Positive relationship\")\n",
    "    if rho < 0:\n",
    "        print(\"Negative relationship\")\n",
    "    if p > 0.05:\n",
    "    \tprint('Probably independent')\n",
    "    else:\n",
    "    \tprint('Probably dependent')"
   ]
  },
  {
   "cell_type": "code",
   "execution_count": 136,
   "metadata": {},
   "outputs": [
    {
     "name": "stdout",
     "output_type": "stream",
     "text": [
      "Company\n",
      "Kendall correlation coefficient: 0.112\n",
      "Samples are correlated (reject H0) p=0.000\n",
      "Product\n",
      "Kendall correlation coefficient: 0.159\n",
      "Samples are correlated (reject H0) p=0.000\n",
      "TypeName\n",
      "Kendall correlation coefficient: -0.006\n",
      "Samples are uncorrelated (fail to reject H0) p=0.787\n",
      "ScreenResolution\n",
      "Kendall correlation coefficient: 0.342\n",
      "Samples are correlated (reject H0) p=0.000\n",
      "Cpu\n",
      "Kendall correlation coefficient: 0.444\n",
      "Samples are correlated (reject H0) p=0.000\n",
      "Memory\n",
      "Kendall correlation coefficient: 0.155\n",
      "Samples are correlated (reject H0) p=0.000\n",
      "Gpu\n",
      "Kendall correlation coefficient: 0.368\n",
      "Samples are correlated (reject H0) p=0.000\n",
      "OpSys\n",
      "Kendall correlation coefficient: 0.285\n",
      "Samples are correlated (reject H0) p=0.000\n"
     ]
    }
   ],
   "source": [
    "for features in categorical:\n",
    "    from scipy.stats import kendalltau\n",
    "    x = categorical[features]\n",
    "    y = df[\"Price_euros\"]\n",
    "    coef, p = kendalltau(x, y)\n",
    "    print(features)\n",
    "    print('Kendall correlation coefficient: %.3f' % coef)\n",
    "    alpha = 0.05\n",
    "    if p > alpha:\n",
    "    \tprint('Samples are uncorrelated (fail to reject H0) p=%.3f' % p)\n",
    "    else:\n",
    "    \tprint('Samples are correlated (reject H0) p=%.3f' % p)"
   ]
  },
  {
   "cell_type": "markdown",
   "metadata": {},
   "source": [
    "__FEATURE PRE-PROCESSING / FEATURE ENGINEERING__"
   ]
  },
  {
   "cell_type": "markdown",
   "metadata": {},
   "source": [
    "FEATURES ENCODING"
   ]
  },
  {
   "cell_type": "code",
   "execution_count": 97,
   "metadata": {},
   "outputs": [],
   "source": [
    "for features in df:\n",
    "    from sklearn import preprocessing  \n",
    "    encoder = preprocessing.LabelEncoder()\n",
    "    if df[features].dtypes == \"object\":\n",
    "        df[features] = encoder.fit_transform(df[features])"
   ]
  },
  {
   "cell_type": "markdown",
   "metadata": {},
   "source": [
    "FEATURES SCALING"
   ]
  },
  {
   "cell_type": "code",
   "execution_count": 98,
   "metadata": {},
   "outputs": [],
   "source": [
    "from sklearn.preprocessing import RobustScaler\n",
    "scaler = RobustScaler()\n",
    "scaled = df[['Inches', 'Ram', 'Weight']]\n",
    "scaled = scaler.fit_transform(scaled)\n",
    "name_scaled = columns_to_use = ['Inches', 'Ram', 'Weight']\n",
    "scaled = pd.DataFrame(scaled, columns=name_scaled)\n",
    "df.drop(columns = ['Inches', 'Ram', 'Weight'], inplace = True)\n",
    "df = pd.concat([df, scaled], axis = 1)"
   ]
  },
  {
   "cell_type": "markdown",
   "metadata": {},
   "source": [
    "__TRAIN / TEST SPLIT__"
   ]
  },
  {
   "cell_type": "code",
   "execution_count": 99,
   "metadata": {},
   "outputs": [],
   "source": [
    "from sklearn.model_selection import train_test_split\n",
    "x = df.drop(columns = [\"Price_euros\"])\n",
    "y = df[\"Price_euros\"]\n",
    "xtrain, xtest, ytrain, ytest = train_test_split(x, y, test_size=0.4)"
   ]
  },
  {
   "cell_type": "markdown",
   "metadata": {},
   "source": [
    "__MODELISATION__"
   ]
  },
  {
   "cell_type": "markdown",
   "metadata": {},
   "source": [
    "DECISION TREE REGRESSOR"
   ]
  },
  {
   "cell_type": "code",
   "execution_count": 100,
   "metadata": {},
   "outputs": [
    {
     "data": {
      "text/plain": [
       "1.0"
      ]
     },
     "execution_count": 100,
     "metadata": {},
     "output_type": "execute_result"
    }
   ],
   "source": [
    "from sklearn.tree import DecisionTreeRegressor\n",
    "dt = DecisionTreeRegressor()\n",
    "dt.fit(xtrain, ytrain)\n",
    "dt.score(xtrain, ytrain)"
   ]
  },
  {
   "cell_type": "code",
   "execution_count": 101,
   "metadata": {},
   "outputs": [
    {
     "data": {
      "text/plain": [
       "0.6510638945545955"
      ]
     },
     "execution_count": 101,
     "metadata": {},
     "output_type": "execute_result"
    }
   ],
   "source": [
    "from sklearn.model_selection import cross_val_score\n",
    "cross_val_score(dt, xtrain, ytrain, cv = 5, scoring = \"r2\").mean()"
   ]
  },
  {
   "cell_type": "code",
   "execution_count": 102,
   "metadata": {},
   "outputs": [
    {
     "data": {
      "text/plain": [
       "<matplotlib.legend.Legend at 0x13e29b95190>"
      ]
     },
     "execution_count": 102,
     "metadata": {},
     "output_type": "execute_result"
    },
    {
     "data": {
      "image/png": "[encoded data removed]",
      "text/plain": [
       "<Figure size 432x288 with 1 Axes>"
      ]
     },
     "metadata": {
      "needs_background": "light"
     },
     "output_type": "display_data"
    }
   ],
   "source": [
    "from sklearn.model_selection import learning_curve\n",
    "n, train_score, val_score = learning_curve(dt, xtrain, ytrain, train_sizes = np.linspace(0.2, 1.0, 5), cv = 5, scoring = 'r2')\n",
    "plt.plot(n, train_score.mean(axis = 1), label = \"train\")\n",
    "plt.plot(n, val_score.mean(axis = 1), label = \"validation\")\n",
    "plt.title(\"Learning curve Decision Tree Regressor\")\n",
    "plt.xlabel(\"train_sizes\")\n",
    "plt.legend()"
   ]
  },
  {
   "cell_type": "code",
   "execution_count": 103,
   "metadata": {},
   "outputs": [
    {
     "data": {
      "text/plain": [
       "0.6539851117340928"
      ]
     },
     "execution_count": 103,
     "metadata": {},
     "output_type": "execute_result"
    }
   ],
   "source": [
    "pred = dt.predict(xtest)\n",
    "from sklearn.metrics import r2_score\n",
    "r2_score(ytest, pred)"
   ]
  },
  {
   "cell_type": "markdown",
   "metadata": {},
   "source": [
    "POST PRUNING"
   ]
  },
  {
   "cell_type": "code",
   "execution_count": 104,
   "metadata": {},
   "outputs": [
    {
     "name": "stdout",
     "output_type": "stream",
     "text": [
      "Previous tree number of nodes: 3 with ccp_alpha: 159901.5285528315\n"
     ]
    }
   ],
   "source": [
    "path = dt.cost_complexity_pruning_path(xtrain, ytrain)\n",
    "ccp_alphas, impurities = path.ccp_alphas, path.impurities\n",
    "\n",
    "dt_pruned = []\n",
    "for ccp_alpha in ccp_alphas:\n",
    "    dt = DecisionTreeRegressor(random_state=0, ccp_alpha=ccp_alpha)\n",
    "    dt.fit(xtrain, ytrain)\n",
    "    dt_pruned.append(dt)\n",
    "print(\"Previous tree number of nodes: {} with ccp_alpha: {}\".format(\n",
    "      dt_pruned[-1].tree_.node_count, ccp_alphas[-1]))"
   ]
  },
  {
   "cell_type": "code",
   "execution_count": 105,
   "metadata": {},
   "outputs": [],
   "source": [
    "train_scores = [dt.score(xtrain, ytrain) for dt in dt_pruned]\n",
    "test_scores = [dt.score(xtest, ytest) for dt in dt_pruned]"
   ]
  },
  {
   "cell_type": "markdown",
   "metadata": {},
   "source": [
    "ACCURACY VS ALPHA"
   ]
  },
  {
   "cell_type": "code",
   "execution_count": 107,
   "metadata": {},
   "outputs": [
    {
     "data": {
      "image/png": "[encoded data removed]",
      "text/plain": [
       "<Figure size 432x288 with 1 Axes>"
      ]
     },
     "metadata": {
      "needs_background": "light"
     },
     "output_type": "display_data"
    }
   ],
   "source": [
    "fig, ax = plt.subplots()\n",
    "ax.set_xlabel(\"Alpha\")\n",
    "ax.set_ylabel(\"Accuracy\")\n",
    "ax.set_title(\"Accuracy vs Alpha\")\n",
    "ax.plot(ccp_alphas, train_scores, marker='o', label=\"Train\",\n",
    "        drawstyle=\"steps-post\")\n",
    "ax.plot(ccp_alphas, test_scores, marker='o', label=\"Test\",\n",
    "        drawstyle=\"steps-post\")\n",
    "ax.legend()\n",
    "plt.show()"
   ]
  },
  {
   "cell_type": "markdown",
   "metadata": {},
   "source": [
    "RE TRAINING OF THE MODEL POST PRUNING"
   ]
  },
  {
   "cell_type": "code",
   "execution_count": 108,
   "metadata": {},
   "outputs": [
    {
     "data": {
      "text/plain": [
       "0.6694510620760845"
      ]
     },
     "execution_count": 108,
     "metadata": {},
     "output_type": "execute_result"
    }
   ],
   "source": [
    "dt = DecisionTreeRegressor(random_state=0, ccp_alpha=19000)\n",
    "dt.fit(xtrain, ytrain)\n",
    "dt.score(xtrain, ytrain)"
   ]
  },
  {
   "cell_type": "code",
   "execution_count": 109,
   "metadata": {},
   "outputs": [
    {
     "data": {
      "text/plain": [
       "0.5662128353706789"
      ]
     },
     "execution_count": 109,
     "metadata": {},
     "output_type": "execute_result"
    }
   ],
   "source": [
    "cross_val_score(dt, xtrain, ytrain, cv = 5, scoring = \"r2\").mean()"
   ]
  },
  {
   "cell_type": "code",
   "execution_count": 110,
   "metadata": {},
   "outputs": [
    {
     "data": {
      "text/plain": [
       "<matplotlib.legend.Legend at 0x13e2bd9b4c0>"
      ]
     },
     "execution_count": 110,
     "metadata": {},
     "output_type": "execute_result"
    },
    {
     "data": {
      "image/png": "[encoded data removed]",
      "text/plain": [
       "<Figure size 432x288 with 1 Axes>"
      ]
     },
     "metadata": {
      "needs_background": "light"
     },
     "output_type": "display_data"
    }
   ],
   "source": [
    "n, train_score, val_score = learning_curve(dt, xtrain, ytrain, train_sizes = np.linspace(0.2, 1.0, 5), cv = 5, scoring = 'r2')\n",
    "plt.plot(n, train_score.mean(axis = 1), label = \"train\")\n",
    "plt.plot(n, val_score.mean(axis = 1), label = \"validation\")\n",
    "plt.title(\"Learning curve Decision Tree Regressor\")\n",
    "plt.xlabel(\"train_sizes\")\n",
    "plt.legend()"
   ]
  },
  {
   "cell_type": "code",
   "execution_count": 111,
   "metadata": {},
   "outputs": [
    {
     "data": {
      "text/plain": [
       "0.6542123749863141"
      ]
     },
     "execution_count": 111,
     "metadata": {},
     "output_type": "execute_result"
    }
   ],
   "source": [
    "pred = dt.predict(xtest)\n",
    "from sklearn.metrics import r2_score\n",
    "r2_score(ytest, pred)"
   ]
  },
  {
   "cell_type": "markdown",
   "metadata": {},
   "source": [
    "KNN"
   ]
  },
  {
   "cell_type": "code",
   "execution_count": 123,
   "metadata": {},
   "outputs": [
    {
     "data": {
      "text/plain": [
       "0.5279076226648731"
      ]
     },
     "execution_count": 123,
     "metadata": {},
     "output_type": "execute_result"
    }
   ],
   "source": [
    "from sklearn.neighbors import KNeighborsRegressor\n",
    "knn = KNeighborsRegressor()\n",
    "knn.fit(xtrain, ytrain)\n",
    "knn.score(xtrain, ytrain)"
   ]
  },
  {
   "cell_type": "code",
   "execution_count": 124,
   "metadata": {},
   "outputs": [
    {
     "data": {
      "text/plain": [
       "0.19015354842905266"
      ]
     },
     "execution_count": 124,
     "metadata": {},
     "output_type": "execute_result"
    }
   ],
   "source": [
    "cross_val_score(knn, xtrain, ytrain, cv = 5, scoring = \"r2\").mean()"
   ]
  },
  {
   "cell_type": "code",
   "execution_count": 125,
   "metadata": {},
   "outputs": [
    {
     "data": {
      "text/plain": [
       "<matplotlib.legend.Legend at 0x13e2cecc430>"
      ]
     },
     "execution_count": 125,
     "metadata": {},
     "output_type": "execute_result"
    },
    {
     "data": {
      "image/png": "[encoded data removed]",
      "text/plain": [
       "<Figure size 432x288 with 1 Axes>"
      ]
     },
     "metadata": {
      "needs_background": "light"
     },
     "output_type": "display_data"
    }
   ],
   "source": [
    "n, train_score, val_score = learning_curve(knn, xtrain, ytrain, train_sizes = np.linspace(0.2, 1.0, 5), cv = 5, scoring = 'r2')\n",
    "plt.plot(n, train_score.mean(axis = 1), label = \"train\")\n",
    "plt.plot(n, val_score.mean(axis = 1), label = \"validation\")\n",
    "plt.title(\"Learning curve KNN Regressor\")\n",
    "plt.xlabel(\"train_sizes\")\n",
    "plt.legend()"
   ]
  },
  {
   "cell_type": "code",
   "execution_count": 126,
   "metadata": {},
   "outputs": [
    {
     "data": {
      "text/plain": [
       "0.36950801063594274"
      ]
     },
     "execution_count": 126,
     "metadata": {},
     "output_type": "execute_result"
    }
   ],
   "source": [
    "pred = knn.predict(xtest)\n",
    "from sklearn.metrics import r2_score\n",
    "r2_score(ytest, pred)"
   ]
  },
  {
   "cell_type": "code",
   "execution_count": 127,
   "metadata": {},
   "outputs": [
    {
     "data": {
      "text/plain": [
       "0.38546988406301186"
      ]
     },
     "execution_count": 127,
     "metadata": {},
     "output_type": "execute_result"
    }
   ],
   "source": [
    "from sklearn.model_selection import GridSearchCV\n",
    "params = {\"n_neighbors\" : np.arange(1, 20),\n",
    "          \"metric\" : [\"euclidean\", \"manhattan\"]}\n",
    "grid = GridSearchCV(knn, params, cv = 5)\n",
    "grid.fit(xtrain, ytrain)\n",
    "grid.best_score_"
   ]
  },
  {
   "cell_type": "code",
   "execution_count": 128,
   "metadata": {},
   "outputs": [
    {
     "data": {
      "text/plain": [
       "{'metric': 'manhattan', 'n_neighbors': 4}"
      ]
     },
     "execution_count": 128,
     "metadata": {},
     "output_type": "execute_result"
    }
   ],
   "source": [
    "grid.best_params_"
   ]
  },
  {
   "cell_type": "code",
   "execution_count": 129,
   "metadata": {},
   "outputs": [
    {
     "data": {
      "text/plain": [
       "0.6604703341476001"
      ]
     },
     "execution_count": 129,
     "metadata": {},
     "output_type": "execute_result"
    }
   ],
   "source": [
    "knn = grid.best_estimator_\n",
    "knn.score(xtrain, ytrain)"
   ]
  },
  {
   "cell_type": "code",
   "execution_count": 130,
   "metadata": {},
   "outputs": [
    {
     "data": {
      "text/plain": [
       "0.38546988406301186"
      ]
     },
     "execution_count": 130,
     "metadata": {},
     "output_type": "execute_result"
    }
   ],
   "source": [
    "cross_val_score(knn, xtrain, ytrain, cv = 5, scoring = \"r2\").mean()"
   ]
  },
  {
   "cell_type": "code",
   "execution_count": 121,
   "metadata": {},
   "outputs": [
    {
     "data": {
      "text/plain": [
       "<matplotlib.legend.Legend at 0x13e2ce26df0>"
      ]
     },
     "execution_count": 121,
     "metadata": {},
     "output_type": "execute_result"
    },
    {
     "data": {
      "image/png": "[encoded data removed]",
      "text/plain": [
       "<Figure size 432x288 with 1 Axes>"
      ]
     },
     "metadata": {
      "needs_background": "light"
     },
     "output_type": "display_data"
    }
   ],
   "source": [
    "n, train_score, val_score = learning_curve(knn, xtrain, ytrain, train_sizes = np.linspace(0.2, 1.0, 5), cv = 5, scoring = 'r2')\n",
    "plt.plot(n, train_score.mean(axis = 1), label = \"train\")\n",
    "plt.plot(n, val_score.mean(axis = 1), label = \"validation\")\n",
    "plt.title(\"Learning curve KNN Regressor post GridSearchCV\")\n",
    "plt.xlabel(\"train_sizes\")\n",
    "plt.legend()"
   ]
  },
  {
   "cell_type": "code",
   "execution_count": 131,
   "metadata": {},
   "outputs": [
    {
     "data": {
      "text/plain": [
       "0.5422970417160982"
      ]
     },
     "execution_count": 131,
     "metadata": {},
     "output_type": "execute_result"
    }
   ],
   "source": [
    "pred = knn.predict(xtest)\n",
    "from sklearn.metrics import r2_score\n",
    "r2_score(ytest, pred)"
   ]
  },
  {
   "cell_type": "markdown",
   "metadata": {},
   "source": [
    "LINEAR REGRESSION"
   ]
  },
  {
   "cell_type": "code",
   "execution_count": 132,
   "metadata": {},
   "outputs": [
    {
     "data": {
      "text/plain": [
       "0.6753568940364951"
      ]
     },
     "execution_count": 132,
     "metadata": {},
     "output_type": "execute_result"
    }
   ],
   "source": [
    "from sklearn.linear_model import LinearRegression\n",
    "lr = LinearRegression()\n",
    "lr.fit(xtrain, ytrain)\n",
    "lr.score(xtrain, ytrain)"
   ]
  },
  {
   "cell_type": "code",
   "execution_count": 133,
   "metadata": {},
   "outputs": [
    {
     "data": {
      "text/plain": [
       "0.6488421750622787"
      ]
     },
     "execution_count": 133,
     "metadata": {},
     "output_type": "execute_result"
    }
   ],
   "source": [
    "cross_val_score(lr, xtrain, ytrain, cv = 5, scoring = \"r2\").mean()"
   ]
  },
  {
   "cell_type": "code",
   "execution_count": 134,
   "metadata": {},
   "outputs": [
    {
     "data": {
      "text/plain": [
       "<matplotlib.legend.Legend at 0x13e2cf1db80>"
      ]
     },
     "execution_count": 134,
     "metadata": {},
     "output_type": "execute_result"
    },
    {
     "data": {
      "image/png": "[encoded data removed]",
      "text/plain": [
       "<Figure size 432x288 with 1 Axes>"
      ]
     },
     "metadata": {
      "needs_background": "light"
     },
     "output_type": "display_data"
    }
   ],
   "source": [
    "n, train_score, val_score = learning_curve(lr, xtrain, ytrain, train_sizes = np.linspace(0.2, 1.0, 5), cv = 5, scoring = 'r2')\n",
    "plt.plot(n, train_score.mean(axis = 1), label = \"train\")\n",
    "plt.plot(n, val_score.mean(axis = 1), label = \"validation\")\n",
    "plt.title(\"Learning curve Linear Regression\")\n",
    "plt.xlabel(\"train_sizes\")\n",
    "plt.legend()"
   ]
  },
  {
   "cell_type": "code",
   "execution_count": 135,
   "metadata": {},
   "outputs": [
    {
     "data": {
      "text/plain": [
       "0.6710814607615618"
      ]
     },
     "execution_count": 135,
     "metadata": {},
     "output_type": "execute_result"
    }
   ],
   "source": [
    "pred = lr.predict(xtest)\n",
    "from sklearn.metrics import r2_score\n",
    "r2_score(ytest, pred)"
   ]
  },
  {
   "cell_type": "markdown",
   "metadata": {},
   "source": [
    "Conclusion : Linear Regression works better"
   ]
  },
  {
   "cell_type": "code",
   "execution_count": null,
   "metadata": {},
   "outputs": [],
   "source": []
  }
 ],
 "metadata": {
  "kernelspec": {
   "display_name": "Python 3",
   "language": "python",
   "name": "python3"
  },
  "language_info": {
   "codemirror_mode": {
    "name": "ipython",
    "version": 3
   },
   "file_extension": ".py",
   "mimetype": "text/x-python",
   "name": "python",
   "nbconvert_exporter": "python",
   "pygments_lexer": "ipython3",
   "version": "3.8.5"
  }
 },
 "nbformat": 4,
 "nbformat_minor": 4
}
